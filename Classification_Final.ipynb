{
 "cells": [
  {
   "cell_type": "markdown",
   "metadata": {},
   "source": [
    "# ECoG Classification"
   ]
  },
  {
   "cell_type": "code",
   "execution_count": 1,
   "metadata": {
    "colab": {
     "base_uri": "https://localhost:8080/"
    },
    "executionInfo": {
     "elapsed": 20670,
     "status": "ok",
     "timestamp": 1665403233140,
     "user": {
      "displayName": "Andrea Fasciglione",
      "userId": "05852989916341548162"
     },
     "user_tz": -120
    },
    "id": "3iipqEcJA8Au",
    "outputId": "85f03fbd-3cb9-47a2-cf2d-85c2edbc3d2d"
   },
   "outputs": [
    {
     "name": "stdout",
     "output_type": "stream",
     "text": [
      "Creating RawArray with float64 data, n_channels=59, n_times=507025\n",
      "    Range : 0 ... 507024 =      0.000 ...   422.520 secs\n",
      "Ready.\n"
     ]
    }
   ],
   "source": [
    "from scipy.io import loadmat\n",
    "import numpy as np\n",
    "import mne\n",
    "import glob\n",
    "\n",
    "data = loadmat(\"ECoG_Handpose.mat\", struct_as_record=True)\n",
    "\n",
    "data_ = data[\"y\"]\n",
    "data_ecog = data_[1:60, :]\n",
    "nchannels, nsamples = data_ecog.shape\n",
    "label = data_[61, :]\n",
    "sample_time = data_[1, :]\n",
    "\n",
    "# Create MNE Structure\n",
    "# Create Info\n",
    "n_channels = 59\n",
    "sfreq = 1200  # in Hertz\n",
    "info = mne.create_info(n_channels, sfreq=sfreq, ch_types=\"ecog\")\n",
    "\n",
    "raw = mne.io.RawArray(data_ecog, info)\n",
    "# raw.plot()\n",
    "# raw.plot_psd(spatial_colors=True)\n",
    "\n",
    "\n",
    "# Create Events, Exclude Relax\n",
    "events = []\n",
    "for i in np.arange(1, len(label)):\n",
    "    if label[i-1] != label[i] and label[i] != 0:\n",
    "        events.append((i, 0, int(label[i])))\n",
    "\n",
    "events = np.array(events)\n",
    "\n",
    "event_id = {\n",
    "'Fist': 1,\n",
    "'Peace': 2,\n",
    "'Open': 3,\n",
    "}\n",
    "\n",
    "# raw.plot(events=events, event_id=event_id)"
   ]
  },
  {
   "cell_type": "code",
   "execution_count": 2,
   "metadata": {
    "colab": {
     "background_save": true
    },
    "id": "NJJk1iSqWlam",
    "outputId": "4fb424a1-97e8-4a12-cd6e-09bdcd82853d"
   },
   "outputs": [
    {
     "name": "stdout",
     "output_type": "stream",
     "text": [
      "Applying average reference.\n",
      "Applying a custom ('ECoG',) reference.\n"
     ]
    }
   ],
   "source": [
    "# ====================================================================================================================\n",
    "# REREFERENCING by COMMON AVERAGE\n",
    "# ====================================================================================================================\n",
    "referenced_raw, _ = mne.set_eeg_reference(raw, ref_channels=\"average\", copy=True, ch_type=\"ecog\")\n",
    "# referenced_raw.plot(events=events, event_id=event_id)\n",
    "# referenced_raw.plot_psd()"
   ]
  },
  {
   "cell_type": "code",
   "execution_count": 3,
   "metadata": {
    "id": "LrojQZsfWqi_"
   },
   "outputs": [
    {
     "name": "stdout",
     "output_type": "stream",
     "text": [
      "Setting up band-stop filter from 49 - 51 Hz\n",
      "\n",
      "IIR filter parameters\n",
      "---------------------\n",
      "Butterworth bandstop zero-phase (two-pass forward and reverse) non-causal filter:\n",
      "- Filter order 24 (effective, after forward-backward)\n",
      "- Cutoffs at 49.38, 50.62 Hz: -6.02, -6.02 dB\n",
      "\n",
      "Setting up band-stop filter from 99 - 1e+02 Hz\n",
      "\n",
      "IIR filter parameters\n",
      "---------------------\n",
      "Butterworth bandstop zero-phase (two-pass forward and reverse) non-causal filter:\n",
      "- Filter order 24 (effective, after forward-backward)\n",
      "- Cutoffs at 99.25, 100.75 Hz: -6.02, -6.02 dB\n",
      "\n",
      "Setting up band-stop filter from 1.5e+02 - 1.5e+02 Hz\n",
      "\n",
      "IIR filter parameters\n",
      "---------------------\n",
      "Butterworth bandstop zero-phase (two-pass forward and reverse) non-causal filter:\n",
      "- Filter order 24 (effective, after forward-backward)\n",
      "- Cutoffs at 149.12, 150.88 Hz: -6.02, -6.02 dB\n",
      "\n",
      "Setting up band-stop filter from 2e+02 - 2e+02 Hz\n",
      "\n",
      "IIR filter parameters\n",
      "---------------------\n",
      "Butterworth bandstop zero-phase (two-pass forward and reverse) non-causal filter:\n",
      "- Filter order 24 (effective, after forward-backward)\n",
      "- Cutoffs at 199.00, 201.00 Hz: -6.02, -6.02 dB\n",
      "\n",
      "Setting up band-stop filter from 2.5e+02 - 2.5e+02 Hz\n",
      "\n",
      "IIR filter parameters\n",
      "---------------------\n",
      "Butterworth bandstop zero-phase (two-pass forward and reverse) non-causal filter:\n",
      "- Filter order 24 (effective, after forward-backward)\n",
      "- Cutoffs at 248.88, 251.12 Hz: -6.02, -6.02 dB\n",
      "\n",
      "Setting up band-stop filter from 3e+02 - 3e+02 Hz\n",
      "\n",
      "IIR filter parameters\n",
      "---------------------\n",
      "Butterworth bandstop zero-phase (two-pass forward and reverse) non-causal filter:\n",
      "- Filter order 24 (effective, after forward-backward)\n",
      "- Cutoffs at 298.75, 301.25 Hz: -6.02, -6.02 dB\n",
      "\n"
     ]
    }
   ],
   "source": [
    "# ====================================================================================================================\n",
    "# NOTCH FILTER\n",
    "# ====================================================================================================================\n",
    "# Remove power line artifact (visible from psd visualization)\n",
    "iir_params = dict(order=6, ftype='butter', output='sos')\n",
    "raw_notch0 = referenced_raw.copy().notch_filter(freqs=50, method='iir', iir_params=iir_params)\n",
    "raw_notch1 = raw_notch0.copy().notch_filter(freqs=100, method='iir', iir_params=iir_params)\n",
    "raw_notch2 = raw_notch1.copy().notch_filter(freqs=150, method='iir', iir_params=iir_params)\n",
    "raw_notch3 = raw_notch2.copy().notch_filter(freqs=200, method='iir', iir_params=iir_params)\n",
    "raw_notch4 = raw_notch3.copy().notch_filter(freqs=250, method='iir', iir_params=iir_params)\n",
    "raw_notch = raw_notch4.copy().notch_filter(freqs=300, method='iir', iir_params=iir_params)\n",
    "\n",
    "# Plot PSD\n",
    "# raw_notch.plot(events=events, event_id=event_id)\n",
    "# raw_notch.plot_psd()"
   ]
  },
  {
   "cell_type": "code",
   "execution_count": 4,
   "metadata": {
    "id": "SYWTmsMgWxNU"
   },
   "outputs": [
    {
     "name": "stdout",
     "output_type": "stream",
     "text": [
      "Filtering raw data in 1 contiguous segment\n",
      "Setting up band-pass filter from 50 - 3e+02 Hz\n",
      "\n",
      "IIR filter parameters\n",
      "---------------------\n",
      "Butterworth bandpass zero-phase (two-pass forward and reverse) non-causal filter:\n",
      "- Filter order 16 (effective, after forward-backward)\n",
      "- Cutoffs at 50.00, 300.00 Hz: -6.02, -6.02 dB\n",
      "\n"
     ]
    }
   ],
   "source": [
    "# ====================================================================================================================\n",
    "# BAND-PASS FILTER\n",
    "# ====================================================================================================================\n",
    "# Inspect data\n",
    "# raw.plot()\n",
    "# filt_low, filt_high = 6, 14\n",
    "filt_low, filt_high = 50, 300\n",
    "# Apply band_pass filter\n",
    "iir_params = dict(order=6, ftype='butter', output='sos')\n",
    "raw_bandpass = raw_notch.copy().filter(l_freq=filt_low, h_freq=filt_high, method=\"iir\")\n",
    "# raw_bandpass.plot()\n",
    "# raw_bandpass.plot_psd(spatial_colors=True)"
   ]
  },
  {
   "cell_type": "code",
   "execution_count": 5,
   "metadata": {
    "id": "PtrppFuiWzmx"
   },
   "outputs": [],
   "source": [
    "# ====================================================================================================================\n",
    "# LOG TRANSFORM\n",
    "# ====================================================================================================================\n",
    "# TODO"
   ]
  },
  {
   "cell_type": "code",
   "execution_count": 6,
   "metadata": {
    "id": "yEGQpdL0W1mH"
   },
   "outputs": [
    {
     "name": "stdout",
     "output_type": "stream",
     "text": [
      "Not setting metadata\n",
      "90 matching events found\n",
      "No baseline correction applied\n",
      "0 projection items activated\n",
      "Using data from preloaded Raw for 90 events and 2401 original time points ...\n",
      "0 bad epochs dropped\n"
     ]
    }
   ],
   "source": [
    "# ====================================================================================================================\n",
    "# EPOCH\n",
    "# ====================================================================================================================\n",
    "# Epoch starts 0.3 seconds before events and end 0.5 second after the events\n",
    "t_min = 0\n",
    "t_max = 2\n",
    "\n",
    "# Create the Epoch\n",
    "epochs = mne.Epochs(raw_bandpass,\n",
    "                    events=events,\n",
    "                    event_id=event_id,\n",
    "                    tmin=t_min,\n",
    "                    tmax=t_max,\n",
    "                    baseline=None,\n",
    "                    preload=True)\n",
    "\n",
    "# Plot\n",
    "# epochs.plot(events=events)"
   ]
  },
  {
   "cell_type": "code",
   "execution_count": 7,
   "metadata": {
    "id": "hcirGfnPW3CB"
   },
   "outputs": [],
   "source": [
    "# ====================================================================================================================\n",
    "# CREATION DATASET\n",
    "# ====================================================================================================================\n",
    "# Create the X and y dataset\n",
    "X = epochs.get_data()\n",
    "y = epochs.events[:, -1]\n",
    "\n",
    "np.save('X.npy',X)\n",
    "np.save('y.npy',y)"
   ]
  },
  {
   "cell_type": "code",
   "execution_count": 8,
   "metadata": {
    "id": "8DaxUVdcNWuU"
   },
   "outputs": [],
   "source": [
    "# ====================================================================================================================\n",
    "# SPECTRAL WHITENING\n",
    "# ====================================================================================================================\n",
    "from scipy import signal\n",
    "from mne.time_frequency import fit_iir_model_raw\n",
    "order = 10  # define model order\n",
    "\n",
    "# Estimate AR models on raw data\n",
    "b, a = fit_iir_model_raw(raw_bandpass, order=order)\n",
    "\n",
    "for i in np.arange(X.shape[0]):\n",
    "    for j in np.arange(X.shape[1]):\n",
    "        d = X[i][j, :]  # look at one channel from now on\n",
    "        d = d.ravel()  # make flat vector\n",
    "        innovation = signal.convolve(d, a, 'valid')\n",
    "        d_ = signal.lfilter(b, a, innovation)  # regenerate the signal\n",
    "        d_ = np.r_[d_[0] * np.ones(order), d_]  # dummy samples to keep signal length\n",
    "        X[i][j, :] = d_"
   ]
  },
  {
   "cell_type": "markdown",
   "metadata": {},
   "source": [
    "# Classifier Riemann Approach"
   ]
  },
  {
   "cell_type": "code",
   "execution_count": 9,
   "metadata": {
    "id": "kAqxUPNdXFQd"
   },
   "outputs": [
    {
     "name": "stdout",
     "output_type": "stream",
     "text": [
      "Classification accuracy: 0.967 +/- 0.051\n"
     ]
    }
   ],
   "source": [
    "# ====================================================================================================================\n",
    "## Classification COV+EN\n",
    "# ====================================================================================================================\n",
    "from pyriemann.classification import MDM\n",
    "from pyriemann.estimation import Covariances\n",
    "from sklearn.model_selection import cross_val_score\n",
    "from sklearn.model_selection import KFold\n",
    "from sklearn.pipeline import Pipeline\n",
    "from sklearn.linear_model import LogisticRegression\n",
    "from pyriemann.tangentspace import TangentSpace\n",
    "\n",
    "cv = KFold(n_splits=10, shuffle=True, random_state=42)\n",
    "\n",
    "# Classifier to test\n",
    "clf = Pipeline(steps=[\n",
    "    (\"Covariances\", Covariances(\"lwf\")),\n",
    "    (\"Tangent_Space\", TangentSpace(metric=\"riemann\")),\n",
    "    (\"LogistReg\", LogisticRegression(penalty=\"elasticnet\", l1_ratio=0.15, intercept_scaling=1000.0, solver=\"saga\"))\n",
    "])\n",
    "\n",
    "# Use scikit-learn Pipeline with cross_val_score function\n",
    "scores = cross_val_score(clf, X, y, cv=cv, n_jobs=1, scoring=\"accuracy\")\n",
    "\n",
    "print(\"Classification accuracy: %.3f +/- %.3f\" %(np.mean(scores), np.std(scores)))"
   ]
  },
  {
   "cell_type": "code",
   "execution_count": 10,
   "metadata": {
    "colab": {
     "base_uri": "https://localhost:8080/"
    },
    "executionInfo": {
     "elapsed": 67603,
     "status": "ok",
     "timestamp": 1665364133162,
     "user": {
      "displayName": "Igor Carrara",
      "userId": "05451714045321385567"
     },
     "user_tz": -120
    },
    "id": "BJCEgLANBegh",
    "outputId": "c67f107d-fabe-4aea-9c59-143237d79847"
   },
   "outputs": [
    {
     "name": "stdout",
     "output_type": "stream",
     "text": [
      "Fitting 10 folds for each of 2 candidates, totalling 20 fits\n",
      "[CV 1/10] END ..........LogistReg__l1_ratio=0.1;, score=0.889 total time=   1.2s\n",
      "[CV 2/10] END ..........LogistReg__l1_ratio=0.1;, score=1.000 total time=   1.3s\n",
      "[CV 3/10] END ..........LogistReg__l1_ratio=0.1;, score=0.889 total time=   1.2s\n",
      "[CV 4/10] END ..........LogistReg__l1_ratio=0.1;, score=1.000 total time=   1.2s\n",
      "[CV 5/10] END ..........LogistReg__l1_ratio=0.1;, score=0.889 total time=   1.2s\n",
      "[CV 6/10] END ..........LogistReg__l1_ratio=0.1;, score=0.889 total time=   1.2s\n",
      "[CV 7/10] END ..........LogistReg__l1_ratio=0.1;, score=0.889 total time=   1.2s\n",
      "[CV 8/10] END ..........LogistReg__l1_ratio=0.1;, score=1.000 total time=   1.2s\n",
      "[CV 9/10] END ..........LogistReg__l1_ratio=0.1;, score=1.000 total time=   1.2s\n",
      "[CV 10/10] END .........LogistReg__l1_ratio=0.1;, score=0.889 total time=   1.2s\n",
      "[CV 1/10] END .........LogistReg__l1_ratio=0.15;, score=0.889 total time=   1.2s\n",
      "[CV 2/10] END .........LogistReg__l1_ratio=0.15;, score=1.000 total time=   1.2s\n",
      "[CV 3/10] END .........LogistReg__l1_ratio=0.15;, score=0.889 total time=   1.2s\n",
      "[CV 4/10] END .........LogistReg__l1_ratio=0.15;, score=1.000 total time=   1.2s\n",
      "[CV 5/10] END .........LogistReg__l1_ratio=0.15;, score=1.000 total time=   1.2s\n",
      "[CV 6/10] END .........LogistReg__l1_ratio=0.15;, score=0.889 total time=   1.2s\n",
      "[CV 7/10] END .........LogistReg__l1_ratio=0.15;, score=1.000 total time=   1.2s\n",
      "[CV 8/10] END .........LogistReg__l1_ratio=0.15;, score=1.000 total time=   1.2s\n",
      "[CV 9/10] END .........LogistReg__l1_ratio=0.15;, score=1.000 total time=   1.2s\n",
      "[CV 10/10] END ........LogistReg__l1_ratio=0.15;, score=1.000 total time=   1.2s\n",
      "{'LogistReg__l1_ratio': 0.15}\n",
      "Classification accuracy: 0.967 +/- 0.051\n"
     ]
    }
   ],
   "source": [
    "# ====================================================================================================================\n",
    "# GridSearch\n",
    "# ====================================================================================================================\n",
    "from sklearn.model_selection import GridSearchCV\n",
    "param_grid = {\n",
    "    'LogistReg__l1_ratio': [0.1, 0.15]\n",
    "}\n",
    "\n",
    "search = GridSearchCV(clf, param_grid, refit=True, cv=cv, verbose=3)\n",
    "\n",
    "search.fit(X, y)\n",
    "# print best parameter after tuning\n",
    "print(search.best_params_)\n",
    "clf.set_params(**search.best_params_)\n",
    "\n",
    "# Use scikit-learn Pipeline with cross_val_score function\n",
    "scores = cross_val_score(clf, X, y, cv=cv, n_jobs=1, scoring=\"accuracy\")\n",
    "\n",
    "print(\"Classification accuracy: %.3f +/- %.3f\" %(np.mean(scores), np.std(scores)))"
   ]
  },
  {
   "cell_type": "code",
   "execution_count": 11,
   "metadata": {
    "colab": {
     "base_uri": "https://localhost:8080/",
     "height": 979
    },
    "executionInfo": {
     "elapsed": 17592,
     "status": "ok",
     "timestamp": 1665364150749,
     "user": {
      "displayName": "Igor Carrara",
      "userId": "05451714045321385567"
     },
     "user_tz": -120
    },
    "id": "Q4kql392BqzU",
    "outputId": "1f9752e4-c54e-44ad-bf7c-8c8cbb25527b"
   },
   "outputs": [
    {
     "name": "stdout",
     "output_type": "stream",
     "text": [
      "              precision    recall  f1-score   support\n",
      "\n",
      "           1       1.00      1.00      1.00        30\n",
      "           2       1.00      1.00      1.00        30\n",
      "           3       1.00      1.00      1.00        30\n",
      "\n",
      "    accuracy                           1.00        90\n",
      "   macro avg       1.00      1.00      1.00        90\n",
      "weighted avg       1.00      1.00      1.00        90\n",
      "\n",
      "Accuracy score (Train): 1.000000e+00\n",
      "              precision    recall  f1-score   support\n",
      "\n",
      "           1       0.97      0.97      0.97        30\n",
      "           2       0.94      0.97      0.95        30\n",
      "           3       1.00      0.97      0.98        30\n",
      "\n",
      "    accuracy                           0.97        90\n",
      "   macro avg       0.97      0.97      0.97        90\n",
      "weighted avg       0.97      0.97      0.97        90\n",
      "\n",
      "Accuracy score (Test): 9.666667e-01\n",
      "Classification accuracy: 0.967 +/- 0.051\n",
      "Computational time: 1.422927e+01 secs\n",
      "Memory Usage: 2.795574e+00 MByte\n"
     ]
    },
    {
     "data": {
      "image/png": "[encoded data removed]",
      "text/plain": [
       "<Figure size 432x288 with 2 Axes>"
      ]
     },
     "metadata": {
      "needs_background": "light"
     },
     "output_type": "display_data"
    },
    {
     "data": {
      "image/png": "[encoded data removed]",
      "text/plain": [
       "<Figure size 432x288 with 2 Axes>"
      ]
     },
     "metadata": {
      "needs_background": "light"
     },
     "output_type": "display_data"
    }
   ],
   "source": [
    "# ====================================================================================================================\n",
    "# Print Results\n",
    "# ====================================================================================================================\n",
    "import time\n",
    "from sklearn.metrics import accuracy_score, classification_report\n",
    "from sklearn.metrics import confusion_matrix, ConfusionMatrixDisplay, jaccard_score, hamming_loss\n",
    "# Define Variable to save the Results\n",
    "pred_train = np.zeros(len(y))\n",
    "pred_test = np.zeros(len(y))\n",
    "\n",
    "# Compute Starting Time\n",
    "time_start = time.perf_counter()\n",
    "\n",
    "for train_index, test_index in cv.split(X):\n",
    "    X_train, X_test = X[train_index], X[test_index]\n",
    "    y_train, y_test = y[train_index], y[test_index]\n",
    "\n",
    "    # Fit the Model on the Training Dataset\n",
    "    clf.fit(X_train, y_train)\n",
    "\n",
    "    # Compute Y_pred using the MDM classifier on the Test Dataset\n",
    "    pred_train[train_index] = clf.predict(X_train)\n",
    "\n",
    "    # Compute Y_pred using the MDM classifier on the Test Dataset\n",
    "    pred_test[test_index] = clf.predict(X_test)\n",
    "\n",
    "# Compute Final Time of the Algorithm\n",
    "time_elapsed = (time.perf_counter() - time_start)\n",
    "\n",
    "# ===================================================================================================================\n",
    "# Train Performances\n",
    "# ===================================================================================================================\n",
    "print(classification_report(y, pred_train))\n",
    "print(\"Accuracy score (Train): {:e}\".format(accuracy_score(y, pred_train)))\n",
    "\n",
    "# Train Confusion Matrix\n",
    "cm = confusion_matrix(y, pred_train, normalize='true')\n",
    "ConfusionMatrixDisplay(cm, display_labels=event_id.keys()).plot()\n",
    "\n",
    "\n",
    "# ===================================================================================================================\n",
    "# Test Performances\n",
    "# ===================================================================================================================\n",
    "print(classification_report(y, pred_test))\n",
    "print(\"Accuracy score (Test): {:e}\".format(accuracy_score(y, pred_test)))\n",
    "print(\"Classification accuracy: %.3f +/- %.3f\" %(np.mean(scores), np.std(scores)))\n",
    "\n",
    "# Train Confusion Matrix\n",
    "cm = confusion_matrix(y, pred_test, normalize='true')\n",
    "ConfusionMatrixDisplay(cm, display_labels=event_id.keys()).plot()\n",
    "\n",
    "# ===================================================================================================================\n",
    "# Computational Performances\n",
    "# ===================================================================================================================\n",
    "import resource\n",
    "print(\"Computational time: {:e} secs\".format(time_elapsed))\n",
    "memMb = resource.getrusage(resource.RUSAGE_SELF).ru_maxrss/1024.0/1024.0\n",
    "print(\"Memory Usage: {:e} MByte\".format(memMb))"
   ]
  },
  {
   "cell_type": "markdown",
   "metadata": {},
   "source": [
    "## Classification Naive Bayes - NO NEED OF PREPROCESSING"
   ]
  },
  {
   "cell_type": "code",
   "execution_count": 12,
   "metadata": {
    "colab": {
     "base_uri": "https://localhost:8080/"
    },
    "executionInfo": {
     "elapsed": 13733,
     "status": "ok",
     "timestamp": 1665365107488,
     "user": {
      "displayName": "Igor Carrara",
      "userId": "05451714045321385567"
     },
     "user_tz": -120
    },
    "id": "YnRZ2T2vXuP7",
    "outputId": "195ac623-124d-4d10-ddb9-302e9140965a"
   },
   "outputs": [
    {
     "name": "stdout",
     "output_type": "stream",
     "text": [
      "Not setting metadata\n",
      "90 matching events found\n",
      "No baseline correction applied\n",
      "0 projection items activated\n",
      "Using data from preloaded Raw for 90 events and 2401 original time points ...\n",
      "0 bad epochs dropped\n",
      "Classification accuracy: 0.933 +/- 0.054\n"
     ]
    }
   ],
   "source": [
    "# ====================================================================================================================\n",
    "# EPOCH\n",
    "# ====================================================================================================================\n",
    "# Epoch starts 0.3 seconds before events and end 0.5 second after the events\n",
    "t_min = 0\n",
    "t_max = 2\n",
    "\n",
    "# Create the Epoch\n",
    "epochs = mne.Epochs(raw,\n",
    "                    events=events,\n",
    "                    event_id=event_id,\n",
    "                    tmin=t_min,\n",
    "                    tmax=t_max,\n",
    "                    baseline=None,\n",
    "                    preload=True)\n",
    "\n",
    "# Plot\n",
    "# epochs.plot(events=events)\n",
    "\n",
    "# ====================================================================================================================\n",
    "# CREATION DATASET\n",
    "# ====================================================================================================================\n",
    "# Create the X and y dataset\n",
    "X = epochs.get_data()\n",
    "y = epochs.events[:, -1]\n",
    "\n",
    "\n",
    "from pyriemann.classification import MDM\n",
    "from pyriemann.estimation import Covariances\n",
    "from sklearn.model_selection import cross_val_score\n",
    "from sklearn.model_selection import KFold\n",
    "from sklearn.pipeline import Pipeline\n",
    "from sklearn.linear_model import LogisticRegression\n",
    "from pyriemann.tangentspace import TangentSpace\n",
    "from pyriemann.classification import FgMDM\n",
    "from sklearn.svm import SVC\n",
    "from sklearn.naive_bayes import GaussianNB\n",
    "\n",
    "cv = KFold(n_splits=10, shuffle=True, random_state=42)\n",
    "\n",
    "# Classifier to test\n",
    "clf = Pipeline(steps=[\n",
    "    (\"Covariances\", Covariances(\"lwf\")),\n",
    "    (\"Tangent_Space\", TangentSpace(metric=\"riemann\")),\n",
    "    (\"GaussianNB\", GaussianNB(priors=None, var_smoothing=0.0008111308307896872))\n",
    "])\n",
    "\n",
    "# Use scikit-learn Pipeline with cross_val_score function\n",
    "scores = cross_val_score(clf, X, y, cv=cv, n_jobs=1, scoring=\"accuracy\")\n",
    "\n",
    "print(\"Classification accuracy: %.3f +/- %.3f\" %(np.mean(scores), np.std(scores)))"
   ]
  },
  {
   "cell_type": "code",
   "execution_count": 15,
   "metadata": {
    "colab": {
     "base_uri": "https://localhost:8080/"
    },
    "executionInfo": {
     "elapsed": 153946,
     "status": "ok",
     "timestamp": 1665365261422,
     "user": {
      "displayName": "Igor Carrara",
      "userId": "05451714045321385567"
     },
     "user_tz": -120
    },
    "id": "j1WvZobCYREZ",
    "outputId": "4db6aacd-f1ff-45d5-8c17-2daca5b6ca1c"
   },
   "outputs": [
    {
     "name": "stdout",
     "output_type": "stream",
     "text": [
      "Fitting 10 folds for each of 4 candidates, totalling 40 fits\n",
      "[CV 1/10] END ....GaussianNB__var_smoothing=1.0;, score=0.667 total time=   1.4s\n",
      "[CV 2/10] END ....GaussianNB__var_smoothing=1.0;, score=0.444 total time=   1.4s\n",
      "[CV 3/10] END ....GaussianNB__var_smoothing=1.0;, score=0.556 total time=   1.3s\n",
      "[CV 4/10] END ....GaussianNB__var_smoothing=1.0;, score=0.778 total time=   1.3s\n",
      "[CV 5/10] END ....GaussianNB__var_smoothing=1.0;, score=0.556 total time=   1.4s\n",
      "[CV 6/10] END ....GaussianNB__var_smoothing=1.0;, score=0.667 total time=   1.4s\n",
      "[CV 7/10] END ....GaussianNB__var_smoothing=1.0;, score=0.778 total time=   1.4s\n",
      "[CV 8/10] END ....GaussianNB__var_smoothing=1.0;, score=0.667 total time=   1.4s\n",
      "[CV 9/10] END ....GaussianNB__var_smoothing=1.0;, score=0.889 total time=   1.4s\n",
      "[CV 10/10] END ...GaussianNB__var_smoothing=1.0;, score=0.444 total time=   1.4s\n",
      "[CV 1/10] END GaussianNB__var_smoothing=0.046415888336127795;, score=0.667 total time=   1.4s\n",
      "[CV 2/10] END GaussianNB__var_smoothing=0.046415888336127795;, score=0.778 total time=   1.3s\n",
      "[CV 3/10] END GaussianNB__var_smoothing=0.046415888336127795;, score=0.889 total time=   1.3s\n",
      "[CV 4/10] END GaussianNB__var_smoothing=0.046415888336127795;, score=0.667 total time=   1.5s\n",
      "[CV 5/10] END GaussianNB__var_smoothing=0.046415888336127795;, score=0.667 total time=   1.4s\n",
      "[CV 6/10] END GaussianNB__var_smoothing=0.046415888336127795;, score=1.000 total time=   1.4s\n",
      "[CV 7/10] END GaussianNB__var_smoothing=0.046415888336127795;, score=0.778 total time=   1.4s\n",
      "[CV 8/10] END GaussianNB__var_smoothing=0.046415888336127795;, score=0.889 total time=   1.4s\n",
      "[CV 9/10] END GaussianNB__var_smoothing=0.046415888336127795;, score=0.778 total time=   1.4s\n",
      "[CV 10/10] END GaussianNB__var_smoothing=0.046415888336127795;, score=0.556 total time=   1.4s\n",
      "[CV 1/10] END GaussianNB__var_smoothing=0.0021544346900318843;, score=0.889 total time=   1.4s\n",
      "[CV 2/10] END GaussianNB__var_smoothing=0.0021544346900318843;, score=0.889 total time=   1.4s\n",
      "[CV 3/10] END GaussianNB__var_smoothing=0.0021544346900318843;, score=1.000 total time=   1.4s\n",
      "[CV 4/10] END GaussianNB__var_smoothing=0.0021544346900318843;, score=0.778 total time=   1.4s\n",
      "[CV 5/10] END GaussianNB__var_smoothing=0.0021544346900318843;, score=0.778 total time=   1.3s\n",
      "[CV 6/10] END GaussianNB__var_smoothing=0.0021544346900318843;, score=0.889 total time=   1.4s\n",
      "[CV 7/10] END GaussianNB__var_smoothing=0.0021544346900318843;, score=1.000 total time=   1.5s\n",
      "[CV 8/10] END GaussianNB__var_smoothing=0.0021544346900318843;, score=1.000 total time=   1.4s\n",
      "[CV 9/10] END GaussianNB__var_smoothing=0.0021544346900318843;, score=0.778 total time=   1.5s\n",
      "[CV 10/10] END GaussianNB__var_smoothing=0.0021544346900318843;, score=0.889 total time=   1.5s\n",
      "[CV 1/10] END .GaussianNB__var_smoothing=0.0001;, score=1.000 total time=   1.4s\n",
      "[CV 2/10] END .GaussianNB__var_smoothing=0.0001;, score=0.889 total time=   1.4s\n",
      "[CV 3/10] END .GaussianNB__var_smoothing=0.0001;, score=1.000 total time=   1.4s\n",
      "[CV 4/10] END .GaussianNB__var_smoothing=0.0001;, score=0.778 total time=   1.4s\n",
      "[CV 5/10] END .GaussianNB__var_smoothing=0.0001;, score=0.889 total time=   1.4s\n",
      "[CV 6/10] END .GaussianNB__var_smoothing=0.0001;, score=0.889 total time=   1.4s\n",
      "[CV 7/10] END .GaussianNB__var_smoothing=0.0001;, score=1.000 total time=   1.5s\n",
      "[CV 8/10] END .GaussianNB__var_smoothing=0.0001;, score=0.889 total time=   1.5s\n",
      "[CV 9/10] END .GaussianNB__var_smoothing=0.0001;, score=0.778 total time=   1.5s\n",
      "[CV 10/10] END GaussianNB__var_smoothing=0.0001;, score=0.889 total time=   1.5s\n",
      "{'GaussianNB__var_smoothing': 0.0001}\n",
      "Classification accuracy: 0.900 +/- 0.078\n"
     ]
    }
   ],
   "source": [
    "# ====================================================================================================================\n",
    "## GridSearch\n",
    "# ====================================================================================================================\n",
    "from sklearn.model_selection import GridSearchCV\n",
    "\n",
    "var_smoothing = np.logspace(0, -4, num=4)\n",
    "\n",
    "param_grid = {\n",
    "    'GaussianNB__var_smoothing': var_smoothing\n",
    "}\n",
    "\n",
    "search = GridSearchCV(clf, param_grid, refit=True, cv=cv, verbose=3)\n",
    "\n",
    "search.fit(X, y)\n",
    "# print best parameter after tuning\n",
    "print(search.best_params_)\n",
    "clf.set_params(**search.best_params_)\n",
    "\n",
    "# Use scikit-learn Pipeline with cross_val_score function\n",
    "scores = cross_val_score(clf, X, y, cv=cv, n_jobs=1, scoring=\"accuracy\")\n",
    "\n",
    "print(\"Classification accuracy: %.3f +/- %.3f\" %(np.mean(scores), np.std(scores)))"
   ]
  },
  {
   "cell_type": "code",
   "execution_count": 16,
   "metadata": {
    "colab": {
     "base_uri": "https://localhost:8080/",
     "height": 979
    },
    "executionInfo": {
     "elapsed": 18488,
     "status": "ok",
     "timestamp": 1665365279907,
     "user": {
      "displayName": "Igor Carrara",
      "userId": "05451714045321385567"
     },
     "user_tz": -120
    },
    "id": "Y1cv1jOBZFNT",
    "outputId": "ef13e29d-1002-40bd-f5b3-f539bdd801d2"
   },
   "outputs": [
    {
     "name": "stdout",
     "output_type": "stream",
     "text": [
      "              precision    recall  f1-score   support\n",
      "\n",
      "           1       1.00      1.00      1.00        30\n",
      "           2       1.00      1.00      1.00        30\n",
      "           3       1.00      1.00      1.00        30\n",
      "\n",
      "    accuracy                           1.00        90\n",
      "   macro avg       1.00      1.00      1.00        90\n",
      "weighted avg       1.00      1.00      1.00        90\n",
      "\n",
      "Accuracy score (Train): 1.000000e+00\n",
      "              precision    recall  f1-score   support\n",
      "\n",
      "           1       0.92      0.80      0.86        30\n",
      "           2       0.85      0.93      0.89        30\n",
      "           3       0.94      0.97      0.95        30\n",
      "\n",
      "    accuracy                           0.90        90\n",
      "   macro avg       0.90      0.90      0.90        90\n",
      "weighted avg       0.90      0.90      0.90        90\n",
      "\n",
      "Accuracy score (Test): 9.000000e-01\n",
      "Classification accuracy: 0.900 +/- 0.078\n",
      "Computational time: 1.622650e+01 secs\n",
      "Memory Usage: 3.832611e+00 MByte\n"
     ]
    },
    {
     "data": {
      "image/png": "[encoded data removed]",
      "text/plain": [
       "<Figure size 432x288 with 2 Axes>"
      ]
     },
     "metadata": {
      "needs_background": "light"
     },
     "output_type": "display_data"
    },
    {
     "data": {
      "image/png": "[encoded data removed]",
      "text/plain": [
       "<Figure size 432x288 with 2 Axes>"
      ]
     },
     "metadata": {
      "needs_background": "light"
     },
     "output_type": "display_data"
    }
   ],
   "source": [
    "# ====================================================================================================================\n",
    "# Print Results\n",
    "# ====================================================================================================================\n",
    "import time\n",
    "from sklearn.metrics import accuracy_score, classification_report\n",
    "from sklearn.metrics import confusion_matrix, ConfusionMatrixDisplay, jaccard_score, hamming_loss\n",
    "# Define Variable to save the Results\n",
    "pred_train = np.zeros(len(y))\n",
    "pred_test = np.zeros(len(y))\n",
    "\n",
    "# Compute Starting Time\n",
    "time_start = time.perf_counter()\n",
    "\n",
    "for train_index, test_index in cv.split(X):\n",
    "    X_train, X_test = X[train_index], X[test_index]\n",
    "    y_train, y_test = y[train_index], y[test_index]\n",
    "\n",
    "    # Fit the Model on the Training Dataset\n",
    "    clf.fit(X_train, y_train)\n",
    "\n",
    "    # Compute Y_pred using the MDM classifier on the Test Dataset\n",
    "    pred_train[train_index] = clf.predict(X_train)\n",
    "\n",
    "    # Compute Y_pred using the MDM classifier on the Test Dataset\n",
    "    pred_test[test_index] = clf.predict(X_test)\n",
    "\n",
    "# Compute Final Time of the Algorithm\n",
    "time_elapsed = (time.perf_counter() - time_start)\n",
    "\n",
    "# ===================================================================================================================\n",
    "# Train Performances\n",
    "# ===================================================================================================================\n",
    "print(classification_report(y, pred_train))\n",
    "print(\"Accuracy score (Train): {:e}\".format(accuracy_score(y, pred_train)))\n",
    "\n",
    "# Train Confusion Matrix\n",
    "cm = confusion_matrix(y, pred_train, normalize='true')\n",
    "ConfusionMatrixDisplay(cm, display_labels=event_id.keys()).plot()\n",
    "\n",
    "\n",
    "# ===================================================================================================================\n",
    "# Test Performances\n",
    "# ===================================================================================================================\n",
    "print(classification_report(y, pred_test))\n",
    "print(\"Accuracy score (Test): {:e}\".format(accuracy_score(y, pred_test)))\n",
    "print(\"Classification accuracy: %.3f +/- %.3f\" %(np.mean(scores), np.std(scores)))\n",
    "\n",
    "# Train Confusion Matrix\n",
    "cm = confusion_matrix(y, pred_test, normalize='true')\n",
    "ConfusionMatrixDisplay(cm, display_labels=event_id.keys()).plot()\n",
    "\n",
    "# ===================================================================================================================\n",
    "# Computational Performances\n",
    "# ===================================================================================================================\n",
    "import resource\n",
    "print(\"Computational time: {:e} secs\".format(time_elapsed))\n",
    "memMb = resource.getrusage(resource.RUSAGE_SELF).ru_maxrss/1024.0/1024.0\n",
    "print(\"Memory Usage: {:e} MByte\".format(memMb))"
   ]
  },
  {
   "cell_type": "markdown",
   "metadata": {},
   "source": [
    "## Sliding Windows Approach"
   ]
  },
  {
   "cell_type": "code",
   "execution_count": 17,
   "metadata": {
    "id": "gf4FnOfOxY1J"
   },
   "outputs": [],
   "source": [
    "def delete_some_class (X, Y, labels_to_drop):    \n",
    "    for i in range(len(labels_to_drop)):\n",
    "        curr_label = labels_to_drop[i];\n",
    "        X.drop(Y.loc[Y['label']==curr_label].index, inplace=True)\n",
    "        Y.drop(Y.loc[Y['label']==curr_label].index, inplace=True)\n",
    "        \n",
    "    X = X.reset_index(drop=True)\n",
    "    Y = Y.reset_index(drop=True)\n",
    "\n",
    "    return X, Y"
   ]
  },
  {
   "cell_type": "code",
   "execution_count": 18,
   "metadata": {
    "id": "tCiWwNfhsvTX"
   },
   "outputs": [],
   "source": [
    "# ====================================================================================================================\n",
    "## SLIDING WINDOW APPROACH\n",
    "# ====================================================================================================================\n",
    "import pandas as pd\n",
    "from sklearn.preprocessing import StandardScaler\n",
    "\n",
    "X = pd.read_csv('X_prep_data.csv')\n",
    "y = pd.read_csv('y_prep_data.csv')\n",
    "\n",
    "scaler = StandardScaler()\n",
    "\n",
    "X, y = delete_some_class(X.reset_index(drop=True), y.reset_index(drop=True), [0])\n",
    "\n",
    "X = pd.DataFrame(scaler.fit_transform(X))\n",
    "\n",
    "y = y['label'].ravel()"
   ]
  },
  {
   "cell_type": "code",
   "execution_count": 19,
   "metadata": {
    "colab": {
     "base_uri": "https://localhost:8080/"
    },
    "executionInfo": {
     "elapsed": 1307,
     "status": "ok",
     "timestamp": 1665403692743,
     "user": {
      "displayName": "Andrea Fasciglione",
      "userId": "05852989916341548162"
     },
     "user_tz": -120
    },
    "id": "gvWOoxDwtRzL",
    "outputId": "21839684-2ae4-4c4b-e31a-6b79c8991cde"
   },
   "outputs": [
    {
     "name": "stdout",
     "output_type": "stream",
     "text": [
      "Classification accuracy: 0.999 +/- 0.003\n"
     ]
    }
   ],
   "source": [
    "# ====================================================================================================================\n",
    "## Classifier\n",
    "# ====================================================================================================================\n",
    "from sklearn.model_selection import cross_val_score\n",
    "from sklearn.model_selection import KFold\n",
    "from sklearn.pipeline import Pipeline\n",
    "from sklearn.svm import SVC\n",
    "\n",
    "cv = KFold(n_splits=10, shuffle=True, random_state=0)\n",
    "\n",
    "# Classifier to test\n",
    "clf = Pipeline(steps=[\n",
    "    (\"SVM\", SVC(C=10**2, gamma=10**-3, kernel='rbf'))\n",
    "])\n",
    "\n",
    "# Use scikit-learn Pipeline with cross_val_score function\n",
    "scores = cross_val_score(clf, X, y, cv=cv, n_jobs=1, scoring=\"accuracy\")\n",
    "\n",
    "print(\"Classification accuracy: %.3f +/- %.3f\" %(np.mean(scores), np.std(scores)))"
   ]
  },
  {
   "cell_type": "code",
   "execution_count": 20,
   "metadata": {
    "colab": {
     "base_uri": "https://localhost:8080/"
    },
    "executionInfo": {
     "elapsed": 17753,
     "status": "ok",
     "timestamp": 1665403713724,
     "user": {
      "displayName": "Andrea Fasciglione",
      "userId": "05852989916341548162"
     },
     "user_tz": -120
    },
    "id": "KN2x5oWhvJ0-",
    "outputId": "349fb387-d99e-425f-cd39-517ad0e5feb9"
   },
   "outputs": [
    {
     "name": "stdout",
     "output_type": "stream",
     "text": [
      "Fitting 10 folds for each of 4 candidates, totalling 40 fits\n",
      "[CV 1/10] END SVM__C=10, SVM__gamma=0.001, SVM__kernel=rbf;, score=1.000 total time=   0.1s\n",
      "[CV 2/10] END SVM__C=10, SVM__gamma=0.001, SVM__kernel=rbf;, score=0.989 total time=   0.1s\n",
      "[CV 3/10] END SVM__C=10, SVM__gamma=0.001, SVM__kernel=rbf;, score=1.000 total time=   0.1s\n",
      "[CV 4/10] END SVM__C=10, SVM__gamma=0.001, SVM__kernel=rbf;, score=0.989 total time=   0.1s\n",
      "[CV 5/10] END SVM__C=10, SVM__gamma=0.001, SVM__kernel=rbf;, score=1.000 total time=   0.1s\n",
      "[CV 6/10] END SVM__C=10, SVM__gamma=0.001, SVM__kernel=rbf;, score=1.000 total time=   0.1s\n",
      "[CV 7/10] END SVM__C=10, SVM__gamma=0.001, SVM__kernel=rbf;, score=1.000 total time=   0.1s\n",
      "[CV 8/10] END SVM__C=10, SVM__gamma=0.001, SVM__kernel=rbf;, score=1.000 total time=   0.1s\n",
      "[CV 9/10] END SVM__C=10, SVM__gamma=0.001, SVM__kernel=rbf;, score=1.000 total time=   0.1s\n",
      "[CV 10/10] END SVM__C=10, SVM__gamma=0.001, SVM__kernel=rbf;, score=0.978 total time=   0.1s\n",
      "[CV 1/10] END SVM__C=10, SVM__gamma=0.1, SVM__kernel=rbf;, score=0.936 total time=   0.1s\n",
      "[CV 2/10] END SVM__C=10, SVM__gamma=0.1, SVM__kernel=rbf;, score=0.968 total time=   0.1s\n",
      "[CV 3/10] END SVM__C=10, SVM__gamma=0.1, SVM__kernel=rbf;, score=0.957 total time=   0.1s\n",
      "[CV 4/10] END SVM__C=10, SVM__gamma=0.1, SVM__kernel=rbf;, score=0.894 total time=   0.1s\n",
      "[CV 5/10] END SVM__C=10, SVM__gamma=0.1, SVM__kernel=rbf;, score=0.979 total time=   0.1s\n",
      "[CV 6/10] END SVM__C=10, SVM__gamma=0.1, SVM__kernel=rbf;, score=0.926 total time=   0.1s\n",
      "[CV 7/10] END SVM__C=10, SVM__gamma=0.1, SVM__kernel=rbf;, score=0.968 total time=   0.1s\n",
      "[CV 8/10] END SVM__C=10, SVM__gamma=0.1, SVM__kernel=rbf;, score=0.989 total time=   0.1s\n",
      "[CV 9/10] END SVM__C=10, SVM__gamma=0.1, SVM__kernel=rbf;, score=0.968 total time=   0.1s\n",
      "[CV 10/10] END SVM__C=10, SVM__gamma=0.1, SVM__kernel=rbf;, score=0.989 total time=   0.1s\n",
      "[CV 1/10] END SVM__C=100, SVM__gamma=0.001, SVM__kernel=rbf;, score=1.000 total time=   0.0s\n",
      "[CV 2/10] END SVM__C=100, SVM__gamma=0.001, SVM__kernel=rbf;, score=1.000 total time=   0.0s\n",
      "[CV 3/10] END SVM__C=100, SVM__gamma=0.001, SVM__kernel=rbf;, score=1.000 total time=   0.0s\n",
      "[CV 4/10] END SVM__C=100, SVM__gamma=0.001, SVM__kernel=rbf;, score=0.989 total time=   0.0s\n",
      "[CV 5/10] END SVM__C=100, SVM__gamma=0.001, SVM__kernel=rbf;, score=1.000 total time=   0.0s\n",
      "[CV 6/10] END SVM__C=100, SVM__gamma=0.001, SVM__kernel=rbf;, score=1.000 total time=   0.0s\n",
      "[CV 7/10] END SVM__C=100, SVM__gamma=0.001, SVM__kernel=rbf;, score=1.000 total time=   0.0s\n",
      "[CV 8/10] END SVM__C=100, SVM__gamma=0.001, SVM__kernel=rbf;, score=1.000 total time=   0.0s\n",
      "[CV 9/10] END SVM__C=100, SVM__gamma=0.001, SVM__kernel=rbf;, score=1.000 total time=   0.0s\n",
      "[CV 10/10] END SVM__C=100, SVM__gamma=0.001, SVM__kernel=rbf;, score=1.000 total time=   0.0s\n",
      "[CV 1/10] END SVM__C=100, SVM__gamma=0.1, SVM__kernel=rbf;, score=0.936 total time=   0.1s\n",
      "[CV 2/10] END SVM__C=100, SVM__gamma=0.1, SVM__kernel=rbf;, score=0.968 total time=   0.1s\n",
      "[CV 3/10] END SVM__C=100, SVM__gamma=0.1, SVM__kernel=rbf;, score=0.957 total time=   0.1s\n",
      "[CV 4/10] END SVM__C=100, SVM__gamma=0.1, SVM__kernel=rbf;, score=0.894 total time=   0.1s\n",
      "[CV 5/10] END SVM__C=100, SVM__gamma=0.1, SVM__kernel=rbf;, score=0.979 total time=   0.1s\n",
      "[CV 6/10] END SVM__C=100, SVM__gamma=0.1, SVM__kernel=rbf;, score=0.926 total time=   0.1s\n",
      "[CV 7/10] END SVM__C=100, SVM__gamma=0.1, SVM__kernel=rbf;, score=0.968 total time=   0.1s\n",
      "[CV 8/10] END SVM__C=100, SVM__gamma=0.1, SVM__kernel=rbf;, score=0.989 total time=   0.1s\n",
      "[CV 9/10] END SVM__C=100, SVM__gamma=0.1, SVM__kernel=rbf;, score=0.968 total time=   0.1s\n",
      "[CV 10/10] END SVM__C=100, SVM__gamma=0.1, SVM__kernel=rbf;, score=0.989 total time=   0.1s\n",
      "{'SVM__C': 100, 'SVM__gamma': 0.001, 'SVM__kernel': 'rbf'}\n",
      "Classification accuracy: 0.999 +/- 0.003\n"
     ]
    }
   ],
   "source": [
    "# ====================================================================================================================\n",
    "## GridSearch\n",
    "# ====================================================================================================================\n",
    "from sklearn.model_selection import GridSearchCV\n",
    "\n",
    "C_values = [10, 100]\n",
    "gamma_values = [0.001, 0.1]\n",
    "kernels = ['rbf']\n",
    "\n",
    "param_grid = {\n",
    "    'SVM__C': C_values,\n",
    "    'SVM__gamma': gamma_values,\n",
    "    'SVM__kernel': kernels\n",
    "}\n",
    "\n",
    "search = GridSearchCV(clf, param_grid, refit=True, cv=cv, verbose=3)\n",
    "\n",
    "search.fit(X, y)\n",
    "# print best parameter after tuning\n",
    "print(search.best_params_)\n",
    "clf.set_params(**search.best_params_)\n",
    "\n",
    "# Use scikit-learn Pipeline with cross_val_score function\n",
    "scores = cross_val_score(clf, X, y, cv=cv, n_jobs=1, scoring=\"accuracy\")\n",
    "\n",
    "print(\"Classification accuracy: %.3f +/- %.3f\" %(np.mean(scores), np.std(scores)))"
   ]
  },
  {
   "cell_type": "code",
   "execution_count": 21,
   "metadata": {
    "id": "lrjDPKp4vb0a"
   },
   "outputs": [],
   "source": [
    "X_arr = np.array(X)\n",
    "y_arr = np.array(y)"
   ]
  },
  {
   "cell_type": "code",
   "execution_count": 22,
   "metadata": {
    "colab": {
     "base_uri": "https://localhost:8080/",
     "height": 236
    },
    "executionInfo": {
     "elapsed": 1337,
     "status": "error",
     "timestamp": 1665444150463,
     "user": {
      "displayName": "Navyada Koshatwar",
      "userId": "04008194982413165806"
     },
     "user_tz": 420
    },
    "id": "6juinUZxvk8v",
    "outputId": "372ed0b1-7785-4380-a017-a09809bebeed"
   },
   "outputs": [
    {
     "name": "stdout",
     "output_type": "stream",
     "text": [
      "              precision    recall  f1-score   support\n",
      "\n",
      "         1.0       1.00      1.00      1.00       311\n",
      "         2.0       1.00      1.00      1.00       315\n",
      "         3.0       1.00      1.00      1.00       312\n",
      "\n",
      "    accuracy                           1.00       938\n",
      "   macro avg       1.00      1.00      1.00       938\n",
      "weighted avg       1.00      1.00      1.00       938\n",
      "\n",
      "Accuracy score (Train): 1.000000e+00\n",
      "              precision    recall  f1-score   support\n",
      "\n",
      "         1.0       1.00      1.00      1.00       311\n",
      "         2.0       1.00      1.00      1.00       315\n",
      "         3.0       1.00      1.00      1.00       312\n",
      "\n",
      "    accuracy                           1.00       938\n",
      "   macro avg       1.00      1.00      1.00       938\n",
      "weighted avg       1.00      1.00      1.00       938\n",
      "\n",
      "Accuracy score (Test): 9.989339e-01\n",
      "Classification accuracy: 0.999 +/- 0.003\n"
     ]
    },
    {
     "data": {
      "text/plain": [
       "<sklearn.metrics._plot.confusion_matrix.ConfusionMatrixDisplay at 0x7f44d9549100>"
      ]
     },
     "execution_count": 22,
     "metadata": {},
     "output_type": "execute_result"
    },
    {
     "data": {
      "image/png": "[encoded data removed]",
      "text/plain": [
       "<Figure size 432x288 with 2 Axes>"
      ]
     },
     "metadata": {
      "needs_background": "light"
     },
     "output_type": "display_data"
    },
    {
     "data": {
      "image/png": "[encoded data removed]",
      "text/plain": [
       "<Figure size 432x288 with 2 Axes>"
      ]
     },
     "metadata": {
      "needs_background": "light"
     },
     "output_type": "display_data"
    }
   ],
   "source": [
    "# ====================================================================================================================\n",
    "# Print Results\n",
    "# ====================================================================================================================\n",
    "import time\n",
    "from sklearn.metrics import accuracy_score, classification_report\n",
    "from sklearn.metrics import confusion_matrix, ConfusionMatrixDisplay, jaccard_score, hamming_loss\n",
    "\n",
    "# Define Variable to save the Results\n",
    "pred_train = np.zeros(len(y_arr))\n",
    "pred_test = np.zeros(len(y_arr))\n",
    "\n",
    "# Compute Starting Time\n",
    "time_start = time.perf_counter()\n",
    "\n",
    "for train_index, test_index in cv.split(X):\n",
    "    #print(train_index.dtype)\n",
    "    #print(test_index.dtype)\n",
    "    train_index = train_index.astype(np.int32)\n",
    "    test_index = test_index.astype(np.int32)\n",
    "    X_train, X_test = X_arr[train_index], X_arr[test_index]\n",
    "    y_train, y_test = y_arr[train_index], y_arr[test_index]\n",
    "\n",
    "    y_train = y_train.ravel()\n",
    "    y_test = y_test.ravel()\n",
    "    \n",
    "    # Fit the Model on the Training Dataset\n",
    "    clf.fit(X_train, y_train)\n",
    "\n",
    "    # Compute Y_pred using the MDM classifier on the Train Dataset\n",
    "    pred_train[train_index] = clf.predict(X_train)\n",
    "\n",
    "    # Compute Y_pred using the MDM classifier on the Test Dataset\n",
    "    pred_test[test_index] = clf.predict(X_test)\n",
    "\n",
    "# Compute Final Time of the Algorithm\n",
    "time_elapsed = (time.perf_counter() - time_start)\n",
    "\n",
    "# ===================================================================================================================\n",
    "# Train Performances\n",
    "# ===================================================================================================================\n",
    "print(classification_report(y, pred_train))\n",
    "print(\"Accuracy score (Train): {:e}\".format(accuracy_score(y, pred_train)))\n",
    "\n",
    "# Train Confusion Matrix\n",
    "cm = confusion_matrix(y, pred_train, normalize='true')\n",
    "ConfusionMatrixDisplay(cm, display_labels=['Fist', 'Peace', 'Open']).plot()\n",
    "\n",
    "# ===================================================================================================================\n",
    "# Test Performances\n",
    "# ===================================================================================================================\n",
    "print(classification_report(y, pred_test))\n",
    "print(\"Accuracy score (Test): {:e}\".format(accuracy_score(y, pred_test)))\n",
    "print(\"Classification accuracy: %.3f +/- %.3f\" %(np.mean(scores), np.std(scores)))\n",
    "\n",
    "# Train Confusion Matrix\n",
    "cm = confusion_matrix(y, pred_test, normalize='true')\n",
    "ConfusionMatrixDisplay(cm, display_labels=['Fist', 'Peace', 'Open']).plot()"
   ]
  }
 ],
 "metadata": {
  "colab": {
   "collapsed_sections": [],
   "provenance": []
  },
  "kernelspec": {
   "display_name": "Python 3 (ipykernel)",
   "language": "python",
   "name": "python3"
  },
  "language_info": {
   "codemirror_mode": {
    "name": "ipython",
    "version": 3
   },
   "file_extension": ".py",
   "mimetype": "text/x-python",
   "name": "python",
   "nbconvert_exporter": "python",
   "pygments_lexer": "ipython3",
   "version": "3.9.7"
  }
 },
 "nbformat": 4,
 "nbformat_minor": 1
}
